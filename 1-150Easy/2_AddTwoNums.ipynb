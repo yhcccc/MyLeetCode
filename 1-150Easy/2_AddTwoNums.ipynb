{
 "cells": [
  {
   "cell_type": "code",
   "execution_count": null,
   "metadata": {},
   "outputs": [],
   "source": [
    "# Definition for singly-linked list.\n",
    "# class ListNode:\n",
    "#     def __init__(self, x):\n",
    "#         self.val = x\n",
    "#         self.next = None\n",
    "\n",
    "class Solution:\n",
    "    def addTwoNumbers(self, l1, l2):\n",
    "        \"\"\"\n",
    "        :type l1: ListNode\n",
    "        :type l2: ListNode\n",
    "        :rtype: ListNode\n",
    "        \"\"\"\n",
    "        S = ListNode(l1.val + l2.val)\n",
    "        carry = 0\n",
    "        if S.val > 9:\n",
    "            S.val = S.val - 10\n",
    "            carry = 1\n",
    "        \n",
    "        if carry == 0 and l1.next is None and l2.next is None:\n",
    "            return S\n",
    "        else:\n",
    "            if l1.next is None:\n",
    "                l1.next = ListNode(0)\n",
    "            if l2.next is None:\n",
    "                l2.next = ListNode(0)\n",
    "            l1.next.val = l1.next.val + carry\n",
    "            S.next = self.addTwoNumbers(l1.next, l2.next)\n",
    "            return S"
   ]
  }
 ],
 "metadata": {
  "kernelspec": {
   "display_name": "Python 3",
   "language": "python",
   "name": "python3"
  },
  "language_info": {
   "codemirror_mode": {
    "name": "ipython",
    "version": 3
   },
   "file_extension": ".py",
   "mimetype": "text/x-python",
   "name": "python",
   "nbconvert_exporter": "python",
   "pygments_lexer": "ipython3",
   "version": "3.6.6"
  }
 },
 "nbformat": 4,
 "nbformat_minor": 2
}
